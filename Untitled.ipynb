{
 "cells": [
  {
   "cell_type": "code",
   "execution_count": 4,
   "metadata": {},
   "outputs": [],
   "source": [
    "inv_map = {v: k for k, v in condition_names.items()}"
   ]
  },
  {
   "cell_type": "code",
   "execution_count": 3,
   "metadata": {},
   "outputs": [],
   "source": [
    "condition_names = {1:'Neutral', 2:'Positive', 3:'Negative'}"
   ]
  },
  {
   "cell_type": "code",
   "execution_count": 5,
   "metadata": {},
   "outputs": [
    {
     "data": {
      "text/plain": [
       "{'Neutral': 1, 'Positive': 2, 'Negative': 3}"
      ]
     },
     "execution_count": 5,
     "metadata": {},
     "output_type": "execute_result"
    }
   ],
   "source": [
    "inv_map"
   ]
  },
  {
   "cell_type": "code",
   "execution_count": 16,
   "metadata": {},
   "outputs": [],
   "source": [
    "cont02 = [None] * 4\n",
    "cont02[0] = input('Enter the name of contrast:  ')"
   ]
  },
  {
   "cell_type": "code",
   "execution_count": 17,
   "metadata": {},
   "outputs": [
    {
     "data": {
      "text/plain": [
       "['photo', None, None, None]"
      ]
     },
     "execution_count": 17,
     "metadata": {},
     "output_type": "execute_result"
    }
   ],
   "source": [
    "cont02"
   ]
  },
  {
   "cell_type": "code",
   "execution_count": 18,
   "metadata": {},
   "outputs": [],
   "source": [
    "cont02[2] = condition_names\n",
    "cont02[3] = [0]*len(condition_names)"
   ]
  },
  {
   "cell_type": "code",
   "execution_count": 23,
   "metadata": {},
   "outputs": [],
   "source": [
    "for i in range(len(condition_names)):\n",
    "    if cont02[0] == condition_names[i]:\n",
    "        cont02[1] = 'T'\n",
    "        cont02[3][i] = 1 "
   ]
  },
  {
   "cell_type": "code",
   "execution_count": 24,
   "metadata": {},
   "outputs": [
    {
     "data": {
      "text/plain": [
       "['photo', 'T', ['belief', 'photo'], [0, 1]]"
      ]
     },
     "execution_count": 24,
     "metadata": {},
     "output_type": "execute_result"
    }
   ],
   "source": [
    "cont02"
   ]
  },
  {
   "cell_type": "code",
   "execution_count": 26,
   "metadata": {},
   "outputs": [],
   "source": [
    "cont03 = [None] * 4\n",
    "cont03[0] = input('Enter the name of contrast:  ')"
   ]
  },
  {
   "cell_type": "code",
   "execution_count": null,
   "metadata": {},
   "outputs": [],
   "source": [
    "if cont03[0] == 'condition_names[i] >'"
   ]
  },
  {
   "cell_type": "code",
   "execution_count": 32,
   "metadata": {},
   "outputs": [
    {
     "data": {
      "text/plain": [
       "'belief'"
      ]
     },
     "execution_count": 32,
     "metadata": {},
     "output_type": "execute_result"
    }
   ],
   "source": [
    "cont03[0][:cont03[0].index(\">\")-1]"
   ]
  },
  {
   "cell_type": "code",
   "execution_count": 31,
   "metadata": {},
   "outputs": [
    {
     "data": {
      "text/plain": [
       "'photo'"
      ]
     },
     "execution_count": 31,
     "metadata": {},
     "output_type": "execute_result"
    }
   ],
   "source": [
    "cont03[0][cont03[0].index(\">\")+2:]"
   ]
  },
  {
   "cell_type": "code",
   "execution_count": 35,
   "metadata": {},
   "outputs": [
    {
     "data": {
      "text/plain": [
       "'12'"
      ]
     },
     "execution_count": 35,
     "metadata": {},
     "output_type": "execute_result"
    }
   ],
   "source": [
    "str(12).zfill(2)"
   ]
  },
  {
   "cell_type": "code",
   "execution_count": 3,
   "metadata": {},
   "outputs": [],
   "source": [
    "cont_number = 3"
   ]
  },
  {
   "cell_type": "code",
   "execution_count": 42,
   "metadata": {},
   "outputs": [],
   "source": [
    "import sys"
   ]
  },
  {
   "cell_type": "code",
   "execution_count": 35,
   "metadata": {},
   "outputs": [],
   "source": [
    "def contrast_generator(condition_names = []):\n",
    "    if len(condition_names) == 0:\n",
    "        condition_names = [str(x) for x in input('Enter names of conditions in the task (separate with spaces):  ').split(' ')]\n",
    "    else: \n",
    "        pass\n",
    "    cont_number = 0\n",
    "    contrast_list = []\n",
    "    response = 'yes'\n",
    "    while response == 'yes':\n",
    "        cont_number += 1\n",
    "        cont = [None] * 4\n",
    "        cont[0] = input('Enter the name of contrast:  ')\n",
    "        cont[2] = condition_names\n",
    "        cont[3] = [0] * len(condition_names)\n",
    "        if '>' in cont[0]:\n",
    "            if cont[0][cont[0].index(\">\")+2:] == 'Others':\n",
    "                cont[1] = 'T'\n",
    "                cont[3] = [-1/(len(condition_names)-1)]*len(condition_names) \n",
    "                for i in range(len(condition_names)):\n",
    "                    if cont[0][:cont[0].index(\">\")-1] == condition_names[i]:\n",
    "                        cont[3][i] = 1\n",
    "                    else:\n",
    "                        pass\n",
    "            else:\n",
    "                for i in range(len(condition_names)):\n",
    "                    if cont[0][:cont[0].index(\">\")-1] == condition_names[i]:\n",
    "                        cont[3][i] = 1\n",
    "                    for n in range(len(condition_names)):\n",
    "                        if cont[0][cont[0].index(\">\")+2:] == condition_names[n]:\n",
    "                            cont[1] = 'T'\n",
    "                            cont[3][n] = -1\n",
    "                            break\n",
    "        else:\n",
    "            for i in range(len(condition_names)):\n",
    "                if cont[0] == condition_names[i]:\n",
    "                    cont[1] = 'T'\n",
    "                    cont[3][i] = 1\n",
    "                    break\n",
    "                else:\n",
    "                    pass\n",
    "        \n",
    "        exec('cont' + str(cont_number).zfill(2) + \"=cont\")\n",
    "        contrast_list.append(eval('cont' + str(cont_number).zfill(2)))\n",
    "        response = input('Would you like to make more contrasts? Enter yes or no: ')\n",
    "    return contrast_list"
   ]
  },
  {
   "cell_type": "code",
   "execution_count": 36,
   "metadata": {},
   "outputs": [],
   "source": [
    "contrast_list = contrast_generator(['Neutral', 'Negative', 'Positive'])"
   ]
  },
  {
   "cell_type": "code",
   "execution_count": 30,
   "metadata": {},
   "outputs": [],
   "source": [
    "exec('cont' + str(cont_number).zfill(2) + \"=cont\")"
   ]
  }
 ],
 "metadata": {
  "kernelspec": {
   "display_name": "Python 3",
   "language": "python",
   "name": "python3"
  },
  "language_info": {
   "codemirror_mode": {
    "name": "ipython",
    "version": 3
   },
   "file_extension": ".py",
   "mimetype": "text/x-python",
   "name": "python",
   "nbconvert_exporter": "python",
   "pygments_lexer": "ipython3",
   "version": "3.6.5"
  }
 },
 "nbformat": 4,
 "nbformat_minor": 2
}
