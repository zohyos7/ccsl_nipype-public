{
 "cells": [
  {
   "cell_type": "markdown",
   "metadata": {},
   "source": [
    "## How to run preprocessing_helper"
   ]
  },
  {
   "cell_type": "code",
   "execution_count": 11,
   "metadata": {},
   "outputs": [],
   "source": [
    "import specify_info\n",
    "import preprocessing_helper"
   ]
  },
  {
   "cell_type": "code",
   "execution_count": 12,
   "metadata": {},
   "outputs": [],
   "source": [
    "%matplotlib inline"
   ]
  },
  {
   "cell_type": "code",
   "execution_count": null,
   "metadata": {},
   "outputs": [],
   "source": [
    "import os\n",
    "subject_list = os.listdir(\"/data/wellbeing_bids\")\n",
    "subject_list.remove('dataset_description.json')\n",
    "subject_list.remove('subj_profile.tsv')\n",
    "\n",
    "subject_list = [sub[-4:] for sub in subject_list]\n",
    "slice_order = list(range(2, 39, 2)) + list(range(1, 38, 2))"
   ]
  },
  {
   "cell_type": "code",
   "execution_count": 10,
   "metadata": {},
   "outputs": [
    {
     "name": "stdout",
     "output_type": "stream",
     "text": [
      "** Done!\n",
      "Writing to param_specified.json **\n"
     ]
    }
   ],
   "source": [
    "specify_info.configure_preproc_params('param_specified.json', subject_list, slice_order)"
   ]
  },
  {
   "cell_type": "code",
   "execution_count": null,
   "metadata": {},
   "outputs": [],
   "source": [
    "%run preprocessing.py /home/zohyos7/ccsl_nipype/param_specified.json"
   ]
  },
  {
   "cell_type": "markdown",
   "metadata": {},
   "source": [
    "## How to run preprocessing"
   ]
  },
  {
   "cell_type": "code",
   "execution_count": 9,
   "metadata": {},
   "outputs": [],
   "source": [
    "import preprocessing"
   ]
  },
  {
   "cell_type": "code",
   "execution_count": 8,
   "metadata": {},
   "outputs": [],
   "source": [
    "subject_list = os.listdir(\"/data/wellbeing_bids\")\n",
    "subject_list.remove('dataset_description.json')\n",
    "subject_list.remove('subj_profile.tsv')\n",
    "\n",
    "subject_list = [sub[-4:] for sub in subject_list]\n",
    "task_list = ['empathy', 'tom']\n",
    "slice_order = list(range(2, 39, 2)) + list(range(1, 38, 2))\n",
    "experiment_dir = '/home/zohyos7/wellbeing_ex'\n",
    "base_directory = '/data/wellbeing_bids'\n",
    "fwhm_list = [4, 8]"
   ]
  },
  {
   "cell_type": "code",
   "execution_count": null,
   "metadata": {},
   "outputs": [],
   "source": [
    "preprocessing.preproc_func(subject_list,\n",
    "                           task_list,\n",
    "                           slice_order,\n",
    "                           experiment_dir,\n",
    "                           base_directory,\n",
    "                           fwhm_list,\n",
    "                           TR = 2,\n",
    "                           dummy_scans = 0,\n",
    "                           iso_size = 4,\n",
    "                           multiple_scans = False)"
   ]
  }
 ],
 "metadata": {
  "kernelspec": {
   "display_name": "Python 3",
   "language": "python",
   "name": "python3"
  },
  "language_info": {
   "codemirror_mode": {
    "name": "ipython",
    "version": 3
   },
   "file_extension": ".py",
   "mimetype": "text/x-python",
   "name": "python",
   "nbconvert_exporter": "python",
   "pygments_lexer": "ipython3",
   "version": "3.6.5"
  }
 },
 "nbformat": 4,
 "nbformat_minor": 2
}
